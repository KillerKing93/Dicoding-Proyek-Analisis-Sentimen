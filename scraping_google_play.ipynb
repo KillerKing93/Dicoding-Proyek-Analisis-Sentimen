{
 "cells": [
  {
   "cell_type": "markdown",
   "id": "961a3ac1",
   "metadata": {},
   "source": [
    "# Impor library yang dibutuhkan"
   ]
  },
  {
   "cell_type": "code",
   "execution_count": 1,
   "id": "00e3cdc5",
   "metadata": {},
   "outputs": [
    {
     "name": "stdout",
     "output_type": "stream",
     "text": [
      "Requirement already satisfied: google_play_scraper in d:\\machine learning\\analisis-sentiment\\myvenv\\lib\\site-packages (1.2.7)\n",
      "Note: you may need to restart the kernel to use updated packages.\n"
     ]
    }
   ],
   "source": [
    "%pip install google_play_scraper\n",
    "import os\n",
    "import pandas as pd\n",
    "from google_play_scraper import reviews, Sort\n",
    "import time  # Untuk memberi jeda jika diperlukan\n",
    "from tqdm import tqdm"
   ]
  },
  {
   "cell_type": "markdown",
   "id": "088afdfd",
   "metadata": {},
   "source": [
    "# --- Konfigurasi Scraping ---"
   ]
  },
  {
   "cell_type": "code",
   "execution_count": 2,
   "id": "12ac4ddb",
   "metadata": {},
   "outputs": [],
   "source": [
    "# Daftar APP_ID target untuk masing-masing aplikasi:\n",
    "LIST_APP_ID = [\n",
    "    # E-commerce Umum / Marketplace\n",
    "    'com.tokopedia.tkpd',             # Tokopedia\n",
    "    'com.lazada.android',             # Lazada\n",
    "    'com.shopee.id',                  # Shopee\n",
    "    'blibli.mobile.commerce',         # Blibli\n",
    "    'com.bukalapak.android',          # Bukalapak\n",
    "    'bmd.android.apps',               # Bhinneka\n",
    "\n",
    "    # === E-commerce Spesialis ===\n",
    "    'com.zalora.android',             # Zalora (Fashion)\n",
    "    'com.socialbella.soco',           # Sociolla (Beauty)\n",
    "    'com.orami.parenting.android',    # Orami (Parenting & Kebutuhan Rumah)\n",
    "    'com.infotech.mapclub',           # MAPCLUB (Mitra Adiperkasa Brands)\n",
    "    'com.eraspace.app',               # Eraspace (Erafone & Erajaya group - Electronics)\n",
    "    'com.mobileappruparupa',          # Ruparupa (Kawan Lama Group - ACE, Informa, etc. - Home & Living)\n",
    "    'id.co.ikea.android',             # IKEA Indonesia (Home & Living)\n",
    "    'com.gramedia.retail',            # Toko Gramedia   (Books & Stationery)\n",
    "    'com.gramedia.digital',           # Gramedia Digital (Books & Stationery)\n",
    "\n",
    "    # E-commerce Grocery / Convenience\n",
    "    'com.indomaret.klikindomaret',    # Klik Indomaret\n",
    "    'com.alfamart.alfagift',          # Alfagift (Alfamart)\n",
    "\n",
    "    # === C2C / Second-hand Marketplace ===\n",
    "    'com.thecarousell.Carousell',   # Carousell\n",
    "\n",
    "    # === Travel E-commerce (OTA - Online Travel Agent) ===\n",
    "    'com.traveloka.android',        # Traveloka (Tiket Pesawat, Hotel, Kereta, Aktivitas)\n",
    "    'com.tiket.gits',               # Tiket.com (Tiket Pesawat, Hotel, Kereta, Event)\n",
    "\n",
    "    # === Ticketing (Film/Event) ===\n",
    "    'id.tix.android',               # TIX ID (Tiket Bioskop)\n",
    "\n",
    "    # === Aplikasi Multi-layanan dengan Komponen E-commerce Kuat ===\n",
    "    'com.grabtaxi.passenger',       # Grab (Termasuk GrabFood, GrabMart)\n",
    "\n",
    "    # Aplikasi lain yang ada di daftar asli (non e-commerce, tapi dipertahankan sesuai request asli)\n",
    "    'com.telkomsel.telkomselcm',            # MyTelkomsel (Utility/Provider)\n",
    "    'co.pegadaian.syariah.nasabah',         # Pegadaian Syariah (Finance)\n",
    "    'com.icon.pln123',                      # PLN Mobile (Utility)\n",
    "    'com.gojek.partner',                    # GoPartner (Layanan - Driver) # Mengganti nama Gojek Driver\n",
    "    'com.gojek.gopay',                      # GoPay (Finance/Payment)\n",
    "    'com.shopeepay.id',                     # ShopeePay (Finance/Payment)\n",
    "    'com.bnc.finance',                      # NeoBank / Bank Neo Commerce (Finance)\n",
    "\n",
    "    # === Game & Hiburan dari daftar asli (jika masih relevan untuk perbandingan) ===\n",
    "    # 'com.HoYoverse.Nap',                  # ZZZ (Game)\n",
    "    # 'com.nexon.bluearchive',              # Blue Archive (Game)\n",
    "    # 'com.robtopx.geometryjump',           # Geometry Dash (Game)\n",
    "    # 'com.ea.game.pvzfree_row',            # Plants VS Zombie (Game)\n",
    "    # 'com.gameloft.android.ANMP.GloftA8HM', # Asphalt 8 (Game)\n",
    "    # 'com.miHoYo.bh3oversea',              # Honkai Impact 3 (Game)\n",
    "    # 'com.HoYoverse.hkrpgoversea',         # Honkai: Star Rail (Game)\n",
    "    # 'com.king.candycrushsaga',            # Candy Crush (Game)\n",
    "    # 'com.bardi.smart.home',               # Bardi Smart Home (Utility/IoT)\n",
    "    # 'com.linecorp.LGGRTHN',               # Line Get Rich (Game)\n",
    "    # 'com.naver.linewebtoon',              # Webtoon (Entertainment)\n",
    "    # 'com.netflix.mediaclient',            # Netflix (Entertainment)\n",
    "    # 'com.discord',                        # Discord (Komunikasi)\n",
    "\n",
    "]\n",
    "\n",
    "JUMLAH_ULASAN_TARGET = 25000  # Target ulasan per aplikasi\n",
    "NAMA_FILE_OUTPUT_SEMUA = 'hasil_scraping_semua_app.csv'\n",
    "\n",
    "# Catatan tambahan:\n",
    "# - ID 'ShopeePay' mungkin perlu diverifikasi ulang karena seringkali terintegrasi dalam aplikasi Shopee utama ('com.shopee.id').\n",
    "#   Jika ada aplikasi ShopeePay terpisah yang ingin ditargetkan, pastikan ID-nya benar.\n",
    "# - Beberapa aplikasi e-commerce lain mungkin ada (misalnya JD.ID yang sudah tidak beroperasi, atau platform yang lebih niche).\n",
    "#   Daftar ini mencakup yang paling umum dan relevan saat ini.\n",
    "# - Nama aplikasi Gojek Driver lebih umum dikenal sebagai GoPartner sekarang."
   ]
  },
  {
   "cell_type": "markdown",
   "id": "0f5b81e6",
   "metadata": {},
   "source": [
    "# Proses scraping untuk setiap aplikasi"
   ]
  },
  {
   "cell_type": "code",
   "execution_count": 3,
   "id": "8cc459bf",
   "metadata": {},
   "outputs": [
    {
     "name": "stdout",
     "output_type": "stream",
     "text": [
      "\n",
      "File raw_app_data/hasil_scraping_com.tokopedia.tkpd.csv ditemukan. Memeriksa jumlah data...\n",
      "Jumlah data pada raw_app_data/hasil_scraping_com.tokopedia.tkpd.csv (18000) tidak memenuhi target. Proses download ulang.\n",
      "\n",
      "Memulai scraping ulasan untuk aplikasi: com.tokopedia.tkpd\n",
      "Target jumlah ulasan: 25000\n"
     ]
    },
    {
     "name": "stderr",
     "output_type": "stream",
     "text": [
      "Scraping com.tokopedia.tkpd: 100%|██████████| 25000/25000 [00:54<00:00, 454.82it/s]\n"
     ]
    },
    {
     "name": "stdout",
     "output_type": "stream",
     "text": [
      "Berhasil mendapatkan 25000 ulasan untuk aplikasi com.tokopedia.tkpd.\n",
      "Data ulasan untuk com.tokopedia.tkpd berhasil disimpan ke file: raw_app_data/hasil_scraping_com.tokopedia.tkpd.csv\n",
      "\n",
      "File raw_app_data/hasil_scraping_com.lazada.android.csv ditemukan. Memeriksa jumlah data...\n",
      "Jumlah data pada raw_app_data/hasil_scraping_com.lazada.android.csv (18000) tidak memenuhi target. Proses download ulang.\n",
      "\n",
      "Memulai scraping ulasan untuk aplikasi: com.lazada.android\n",
      "Target jumlah ulasan: 25000\n"
     ]
    },
    {
     "name": "stderr",
     "output_type": "stream",
     "text": [
      "Scraping com.lazada.android: 100%|██████████| 25000/25000 [00:52<00:00, 472.27it/s]\n"
     ]
    },
    {
     "name": "stdout",
     "output_type": "stream",
     "text": [
      "Berhasil mendapatkan 25000 ulasan untuk aplikasi com.lazada.android.\n",
      "Data ulasan untuk com.lazada.android berhasil disimpan ke file: raw_app_data/hasil_scraping_com.lazada.android.csv\n",
      "\n",
      "File raw_app_data/hasil_scraping_com.shopee.id.csv ditemukan. Memeriksa jumlah data...\n",
      "Jumlah data pada raw_app_data/hasil_scraping_com.shopee.id.csv (18000) tidak memenuhi target. Proses download ulang.\n",
      "\n",
      "Memulai scraping ulasan untuk aplikasi: com.shopee.id\n",
      "Target jumlah ulasan: 25000\n"
     ]
    },
    {
     "name": "stderr",
     "output_type": "stream",
     "text": [
      "Scraping com.shopee.id: 100%|██████████| 25000/25000 [00:56<00:00, 443.81it/s]\n"
     ]
    },
    {
     "name": "stdout",
     "output_type": "stream",
     "text": [
      "Berhasil mendapatkan 25000 ulasan untuk aplikasi com.shopee.id.\n",
      "Data ulasan untuk com.shopee.id berhasil disimpan ke file: raw_app_data/hasil_scraping_com.shopee.id.csv\n",
      "\n",
      "File raw_app_data/hasil_scraping_blibli.mobile.commerce.csv ditemukan. Memeriksa jumlah data...\n",
      "Jumlah data pada raw_app_data/hasil_scraping_blibli.mobile.commerce.csv (18000) tidak memenuhi target. Proses download ulang.\n",
      "\n",
      "Memulai scraping ulasan untuk aplikasi: blibli.mobile.commerce\n",
      "Target jumlah ulasan: 25000\n"
     ]
    },
    {
     "name": "stderr",
     "output_type": "stream",
     "text": [
      "Scraping blibli.mobile.commerce: 100%|██████████| 25000/25000 [00:53<00:00, 464.93it/s]\n"
     ]
    },
    {
     "name": "stdout",
     "output_type": "stream",
     "text": [
      "Berhasil mendapatkan 25000 ulasan untuk aplikasi blibli.mobile.commerce.\n",
      "Data ulasan untuk blibli.mobile.commerce berhasil disimpan ke file: raw_app_data/hasil_scraping_blibli.mobile.commerce.csv\n",
      "\n",
      "File raw_app_data/hasil_scraping_com.bukalapak.android.csv ditemukan. Memeriksa jumlah data...\n",
      "Jumlah data pada raw_app_data/hasil_scraping_com.bukalapak.android.csv (18000) tidak memenuhi target. Proses download ulang.\n",
      "\n",
      "Memulai scraping ulasan untuk aplikasi: com.bukalapak.android\n",
      "Target jumlah ulasan: 25000\n"
     ]
    },
    {
     "name": "stderr",
     "output_type": "stream",
     "text": [
      "Scraping com.bukalapak.android: 100%|██████████| 25000/25000 [00:47<00:00, 529.94it/s]\n"
     ]
    },
    {
     "name": "stdout",
     "output_type": "stream",
     "text": [
      "Berhasil mendapatkan 25000 ulasan untuk aplikasi com.bukalapak.android.\n",
      "Data ulasan untuk com.bukalapak.android berhasil disimpan ke file: raw_app_data/hasil_scraping_com.bukalapak.android.csv\n",
      "\n",
      "File raw_app_data/hasil_scraping_bmd.android.apps.csv ditemukan. Memeriksa jumlah data...\n",
      "Jumlah data pada raw_app_data/hasil_scraping_bmd.android.apps.csv (426) tidak memenuhi target. Proses download ulang.\n",
      "\n",
      "Memulai scraping ulasan untuk aplikasi: bmd.android.apps\n",
      "Target jumlah ulasan: 25000\n"
     ]
    },
    {
     "name": "stderr",
     "output_type": "stream",
     "text": [
      "Scraping bmd.android.apps:   2%|▏         | 426/25000 [00:01<01:25, 288.77it/s]"
     ]
    },
    {
     "name": "stdout",
     "output_type": "stream",
     "text": [
      "\n",
      "Tidak ada ulasan baru yang diterima dari bmd.android.apps. Berhenti proses scraping.\n",
      "\n",
      "CATATAN: Hanya berhasil mendapatkan 426 ulasan dari bmd.android.apps.\n",
      "Kemungkinan aplikasi bmd.android.apps memiliki lebih sedikit ulasan dari target (25000).\n",
      "Melanjutkan proses penyimpanan dengan jumlah ulasan yang tersedia.\n",
      "Berhasil mendapatkan 426 ulasan untuk aplikasi bmd.android.apps.\n",
      "Data ulasan untuk bmd.android.apps berhasil disimpan ke file: raw_app_data/hasil_scraping_bmd.android.apps.csv\n",
      "\n",
      "File raw_app_data/hasil_scraping_com.zalora.android.csv ditemukan. Memeriksa jumlah data...\n"
     ]
    },
    {
     "name": "stderr",
     "output_type": "stream",
     "text": [
      "\n"
     ]
    },
    {
     "name": "stdout",
     "output_type": "stream",
     "text": [
      "Jumlah data pada raw_app_data/hasil_scraping_com.zalora.android.csv (18000) tidak memenuhi target. Proses download ulang.\n",
      "\n",
      "Memulai scraping ulasan untuk aplikasi: com.zalora.android\n",
      "Target jumlah ulasan: 25000\n"
     ]
    },
    {
     "name": "stderr",
     "output_type": "stream",
     "text": [
      "Scraping com.zalora.android: 100%|██████████| 25000/25000 [00:56<00:00, 443.70it/s]\n"
     ]
    },
    {
     "name": "stdout",
     "output_type": "stream",
     "text": [
      "Berhasil mendapatkan 25000 ulasan untuk aplikasi com.zalora.android.\n",
      "Data ulasan untuk com.zalora.android berhasil disimpan ke file: raw_app_data/hasil_scraping_com.zalora.android.csv\n",
      "\n",
      "File raw_app_data/hasil_scraping_com.socialbella.soco.csv ditemukan. Memeriksa jumlah data...\n",
      "Jumlah data pada raw_app_data/hasil_scraping_com.socialbella.soco.csv (3332) tidak memenuhi target. Proses download ulang.\n",
      "\n",
      "Memulai scraping ulasan untuk aplikasi: com.socialbella.soco\n",
      "Target jumlah ulasan: 25000\n"
     ]
    },
    {
     "name": "stderr",
     "output_type": "stream",
     "text": [
      "Scraping com.socialbella.soco:  13%|█▎        | 3332/25000 [00:10<01:11, 303.88it/s]\n"
     ]
    },
    {
     "name": "stdout",
     "output_type": "stream",
     "text": [
      "\n",
      "Tidak ada ulasan baru yang diterima dari com.socialbella.soco. Berhenti proses scraping.\n",
      "\n",
      "CATATAN: Hanya berhasil mendapatkan 3332 ulasan dari com.socialbella.soco.\n",
      "Kemungkinan aplikasi com.socialbella.soco memiliki lebih sedikit ulasan dari target (25000).\n",
      "Melanjutkan proses penyimpanan dengan jumlah ulasan yang tersedia.\n",
      "Berhasil mendapatkan 3332 ulasan untuk aplikasi com.socialbella.soco.\n",
      "Data ulasan untuk com.socialbella.soco berhasil disimpan ke file: raw_app_data/hasil_scraping_com.socialbella.soco.csv\n",
      "\n",
      "File raw_app_data/hasil_scraping_com.orami.parenting.android.csv ditemukan. Memeriksa jumlah data...\n",
      "Jumlah data pada raw_app_data/hasil_scraping_com.orami.parenting.android.csv (279) tidak memenuhi target. Proses download ulang.\n",
      "\n",
      "Memulai scraping ulasan untuk aplikasi: com.orami.parenting.android\n",
      "Target jumlah ulasan: 25000\n"
     ]
    },
    {
     "name": "stderr",
     "output_type": "stream",
     "text": [
      "Scraping com.orami.parenting.android:   1%|          | 279/25000 [00:01<01:55, 214.03it/s]"
     ]
    },
    {
     "name": "stdout",
     "output_type": "stream",
     "text": [
      "\n",
      "Tidak ada ulasan baru yang diterima dari com.orami.parenting.android. Berhenti proses scraping.\n",
      "\n",
      "CATATAN: Hanya berhasil mendapatkan 279 ulasan dari com.orami.parenting.android.\n",
      "Kemungkinan aplikasi com.orami.parenting.android memiliki lebih sedikit ulasan dari target (25000).\n",
      "Melanjutkan proses penyimpanan dengan jumlah ulasan yang tersedia.\n",
      "Berhasil mendapatkan 279 ulasan untuk aplikasi com.orami.parenting.android.\n",
      "Data ulasan untuk com.orami.parenting.android berhasil disimpan ke file: raw_app_data/hasil_scraping_com.orami.parenting.android.csv\n",
      "\n",
      "File raw_app_data/hasil_scraping_com.infotech.mapclub.csv ditemukan. Memeriksa jumlah data...\n"
     ]
    },
    {
     "name": "stderr",
     "output_type": "stream",
     "text": [
      "\n"
     ]
    },
    {
     "name": "stdout",
     "output_type": "stream",
     "text": [
      "Jumlah data pada raw_app_data/hasil_scraping_com.infotech.mapclub.csv (10700) tidak memenuhi target. Proses download ulang.\n",
      "\n",
      "Memulai scraping ulasan untuk aplikasi: com.infotech.mapclub\n",
      "Target jumlah ulasan: 25000\n"
     ]
    },
    {
     "name": "stderr",
     "output_type": "stream",
     "text": [
      "Scraping com.infotech.mapclub:  43%|████▎     | 10700/25000 [00:24<00:32, 440.10it/s]"
     ]
    },
    {
     "name": "stdout",
     "output_type": "stream",
     "text": [
      "\n",
      "Tidak ada ulasan baru yang diterima dari com.infotech.mapclub. Berhenti proses scraping.\n",
      "\n",
      "CATATAN: Hanya berhasil mendapatkan 10700 ulasan dari com.infotech.mapclub.\n",
      "Kemungkinan aplikasi com.infotech.mapclub memiliki lebih sedikit ulasan dari target (25000).\n",
      "Melanjutkan proses penyimpanan dengan jumlah ulasan yang tersedia.\n",
      "Berhasil mendapatkan 10700 ulasan untuk aplikasi com.infotech.mapclub.\n",
      "Data ulasan untuk com.infotech.mapclub berhasil disimpan ke file: raw_app_data/hasil_scraping_com.infotech.mapclub.csv\n",
      "\n",
      "File raw_app_data/hasil_scraping_com.eraspace.app.csv ditemukan. Memeriksa jumlah data...\n"
     ]
    },
    {
     "name": "stderr",
     "output_type": "stream",
     "text": [
      "\n"
     ]
    },
    {
     "name": "stdout",
     "output_type": "stream",
     "text": [
      "Jumlah data pada raw_app_data/hasil_scraping_com.eraspace.app.csv (776) tidak memenuhi target. Proses download ulang.\n",
      "\n",
      "Memulai scraping ulasan untuk aplikasi: com.eraspace.app\n",
      "Target jumlah ulasan: 25000\n"
     ]
    },
    {
     "name": "stderr",
     "output_type": "stream",
     "text": [
      "Scraping com.eraspace.app:   3%|▎         | 777/25000 [00:01<00:56, 430.13it/s]\n"
     ]
    },
    {
     "name": "stdout",
     "output_type": "stream",
     "text": [
      "\n",
      "Tidak ada ulasan baru yang diterima dari com.eraspace.app. Berhenti proses scraping.\n",
      "\n",
      "CATATAN: Hanya berhasil mendapatkan 777 ulasan dari com.eraspace.app.\n",
      "Kemungkinan aplikasi com.eraspace.app memiliki lebih sedikit ulasan dari target (25000).\n",
      "Melanjutkan proses penyimpanan dengan jumlah ulasan yang tersedia.\n",
      "Berhasil mendapatkan 777 ulasan untuk aplikasi com.eraspace.app.\n",
      "Data ulasan untuk com.eraspace.app berhasil disimpan ke file: raw_app_data/hasil_scraping_com.eraspace.app.csv\n",
      "\n",
      "File raw_app_data/hasil_scraping_com.mobileappruparupa.csv ditemukan. Memeriksa jumlah data...\n",
      "Jumlah data pada raw_app_data/hasil_scraping_com.mobileappruparupa.csv (2597) tidak memenuhi target. Proses download ulang.\n",
      "\n",
      "Memulai scraping ulasan untuk aplikasi: com.mobileappruparupa\n",
      "Target jumlah ulasan: 25000\n"
     ]
    },
    {
     "name": "stderr",
     "output_type": "stream",
     "text": [
      "Scraping com.mobileappruparupa:  10%|█         | 2597/25000 [00:05<00:47, 469.01it/s]\n"
     ]
    },
    {
     "name": "stdout",
     "output_type": "stream",
     "text": [
      "\n",
      "Tidak ada ulasan baru yang diterima dari com.mobileappruparupa. Berhenti proses scraping.\n",
      "\n",
      "CATATAN: Hanya berhasil mendapatkan 2597 ulasan dari com.mobileappruparupa.\n",
      "Kemungkinan aplikasi com.mobileappruparupa memiliki lebih sedikit ulasan dari target (25000).\n",
      "Melanjutkan proses penyimpanan dengan jumlah ulasan yang tersedia.\n",
      "Berhasil mendapatkan 2597 ulasan untuk aplikasi com.mobileappruparupa.\n",
      "Data ulasan untuk com.mobileappruparupa berhasil disimpan ke file: raw_app_data/hasil_scraping_com.mobileappruparupa.csv\n",
      "\n",
      "File raw_app_data/hasil_scraping_id.co.ikea.android.csv ditemukan. Memeriksa jumlah data...\n",
      "Jumlah data pada raw_app_data/hasil_scraping_id.co.ikea.android.csv (951) tidak memenuhi target. Proses download ulang.\n",
      "\n",
      "Memulai scraping ulasan untuk aplikasi: id.co.ikea.android\n",
      "Target jumlah ulasan: 25000\n"
     ]
    },
    {
     "name": "stderr",
     "output_type": "stream",
     "text": [
      "Scraping id.co.ikea.android:   4%|▍         | 952/25000 [00:01<00:49, 490.17it/s]\n"
     ]
    },
    {
     "name": "stdout",
     "output_type": "stream",
     "text": [
      "\n",
      "Tidak ada ulasan baru yang diterima dari id.co.ikea.android. Berhenti proses scraping.\n",
      "\n",
      "CATATAN: Hanya berhasil mendapatkan 952 ulasan dari id.co.ikea.android.\n",
      "Kemungkinan aplikasi id.co.ikea.android memiliki lebih sedikit ulasan dari target (25000).\n",
      "Melanjutkan proses penyimpanan dengan jumlah ulasan yang tersedia.\n",
      "Berhasil mendapatkan 952 ulasan untuk aplikasi id.co.ikea.android.\n",
      "Data ulasan untuk id.co.ikea.android berhasil disimpan ke file: raw_app_data/hasil_scraping_id.co.ikea.android.csv\n",
      "\n",
      "File raw_app_data/hasil_scraping_com.gramedia.retail.csv ditemukan. Memeriksa jumlah data...\n",
      "Jumlah data pada raw_app_data/hasil_scraping_com.gramedia.retail.csv (1121) tidak memenuhi target. Proses download ulang.\n",
      "\n",
      "Memulai scraping ulasan untuk aplikasi: com.gramedia.retail\n",
      "Target jumlah ulasan: 25000\n"
     ]
    },
    {
     "name": "stderr",
     "output_type": "stream",
     "text": [
      "Scraping com.gramedia.retail:   4%|▍         | 1122/25000 [00:02<01:01, 387.73it/s]\n"
     ]
    },
    {
     "name": "stdout",
     "output_type": "stream",
     "text": [
      "\n",
      "Tidak ada ulasan baru yang diterima dari com.gramedia.retail. Berhenti proses scraping.\n",
      "\n",
      "CATATAN: Hanya berhasil mendapatkan 1122 ulasan dari com.gramedia.retail.\n",
      "Kemungkinan aplikasi com.gramedia.retail memiliki lebih sedikit ulasan dari target (25000).\n",
      "Melanjutkan proses penyimpanan dengan jumlah ulasan yang tersedia.\n",
      "Berhasil mendapatkan 1122 ulasan untuk aplikasi com.gramedia.retail.\n",
      "Data ulasan untuk com.gramedia.retail berhasil disimpan ke file: raw_app_data/hasil_scraping_com.gramedia.retail.csv\n",
      "\n",
      "Memulai scraping ulasan untuk aplikasi: com.gramedia.digital\n",
      "Target jumlah ulasan: 25000\n"
     ]
    },
    {
     "name": "stderr",
     "output_type": "stream",
     "text": [
      "Scraping com.gramedia.digital:   0%|          | 0/25000 [00:00<?, ?it/s]"
     ]
    },
    {
     "name": "stdout",
     "output_type": "stream",
     "text": [
      "\n",
      "Tidak ada ulasan baru yang diterima dari com.gramedia.digital. Berhenti proses scraping.\n",
      "\n",
      "CATATAN: Hanya berhasil mendapatkan 0 ulasan dari com.gramedia.digital.\n",
      "Kemungkinan aplikasi com.gramedia.digital memiliki lebih sedikit ulasan dari target (25000).\n",
      "Melanjutkan proses penyimpanan dengan jumlah ulasan yang tersedia.\n",
      "Berhasil mendapatkan 0 ulasan untuk aplikasi com.gramedia.digital.\n",
      "Terjadi kesalahan saat scraping untuk com.gramedia.digital: \"None of [Index(['app_id', 'userName', 'score', 'at', 'content'], dtype='object')] are in the [columns]\"\n",
      "Pastikan ID Aplikasi benar dan koneksi internet stabil.\n",
      "\n",
      "File raw_app_data/hasil_scraping_com.indomaret.klikindomaret.csv ditemukan. Memeriksa jumlah data...\n"
     ]
    },
    {
     "name": "stderr",
     "output_type": "stream",
     "text": [
      "\n"
     ]
    },
    {
     "name": "stdout",
     "output_type": "stream",
     "text": [
      "Jumlah data pada raw_app_data/hasil_scraping_com.indomaret.klikindomaret.csv (18000) tidak memenuhi target. Proses download ulang.\n",
      "\n",
      "Memulai scraping ulasan untuk aplikasi: com.indomaret.klikindomaret\n",
      "Target jumlah ulasan: 25000\n"
     ]
    },
    {
     "name": "stderr",
     "output_type": "stream",
     "text": [
      "Scraping com.indomaret.klikindomaret: 100%|██████████| 25000/25000 [00:52<00:00, 479.96it/s]\n"
     ]
    },
    {
     "name": "stdout",
     "output_type": "stream",
     "text": [
      "Berhasil mendapatkan 25000 ulasan untuk aplikasi com.indomaret.klikindomaret.\n",
      "Data ulasan untuk com.indomaret.klikindomaret berhasil disimpan ke file: raw_app_data/hasil_scraping_com.indomaret.klikindomaret.csv\n",
      "\n",
      "File raw_app_data/hasil_scraping_com.alfamart.alfagift.csv ditemukan. Memeriksa jumlah data...\n",
      "Jumlah data pada raw_app_data/hasil_scraping_com.alfamart.alfagift.csv (18000) tidak memenuhi target. Proses download ulang.\n",
      "\n",
      "Memulai scraping ulasan untuk aplikasi: com.alfamart.alfagift\n",
      "Target jumlah ulasan: 25000\n"
     ]
    },
    {
     "name": "stderr",
     "output_type": "stream",
     "text": [
      "Scraping com.alfamart.alfagift: 100%|██████████| 25000/25000 [00:47<00:00, 524.40it/s]\n"
     ]
    },
    {
     "name": "stdout",
     "output_type": "stream",
     "text": [
      "Berhasil mendapatkan 25000 ulasan untuk aplikasi com.alfamart.alfagift.\n",
      "Data ulasan untuk com.alfamart.alfagift berhasil disimpan ke file: raw_app_data/hasil_scraping_com.alfamart.alfagift.csv\n",
      "\n",
      "File raw_app_data/hasil_scraping_com.thecarousell.Carousell.csv ditemukan. Memeriksa jumlah data...\n",
      "Jumlah data pada raw_app_data/hasil_scraping_com.thecarousell.Carousell.csv (18000) tidak memenuhi target. Proses download ulang.\n",
      "\n",
      "Memulai scraping ulasan untuk aplikasi: com.thecarousell.Carousell\n",
      "Target jumlah ulasan: 25000\n"
     ]
    },
    {
     "name": "stderr",
     "output_type": "stream",
     "text": [
      "Scraping com.thecarousell.Carousell:  85%|████████▍ | 21236/25000 [00:43<00:07, 491.76it/s]"
     ]
    },
    {
     "name": "stdout",
     "output_type": "stream",
     "text": [
      "\n",
      "Tidak ada ulasan baru yang diterima dari com.thecarousell.Carousell. Berhenti proses scraping.\n",
      "\n",
      "CATATAN: Hanya berhasil mendapatkan 21236 ulasan dari com.thecarousell.Carousell.\n",
      "Kemungkinan aplikasi com.thecarousell.Carousell memiliki lebih sedikit ulasan dari target (25000).\n",
      "Melanjutkan proses penyimpanan dengan jumlah ulasan yang tersedia.\n",
      "Berhasil mendapatkan 21236 ulasan untuk aplikasi com.thecarousell.Carousell.\n",
      "Data ulasan untuk com.thecarousell.Carousell berhasil disimpan ke file: raw_app_data/hasil_scraping_com.thecarousell.Carousell.csv\n",
      "\n",
      "File raw_app_data/hasil_scraping_com.traveloka.android.csv ditemukan. Memeriksa jumlah data...\n"
     ]
    },
    {
     "name": "stderr",
     "output_type": "stream",
     "text": [
      "\n"
     ]
    },
    {
     "name": "stdout",
     "output_type": "stream",
     "text": [
      "Jumlah data pada raw_app_data/hasil_scraping_com.traveloka.android.csv (18000) tidak memenuhi target. Proses download ulang.\n",
      "\n",
      "Memulai scraping ulasan untuk aplikasi: com.traveloka.android\n",
      "Target jumlah ulasan: 25000\n"
     ]
    },
    {
     "name": "stderr",
     "output_type": "stream",
     "text": [
      "Scraping com.traveloka.android: 100%|██████████| 25000/25000 [00:52<00:00, 471.73it/s]\n"
     ]
    },
    {
     "name": "stdout",
     "output_type": "stream",
     "text": [
      "Berhasil mendapatkan 25000 ulasan untuk aplikasi com.traveloka.android.\n",
      "Data ulasan untuk com.traveloka.android berhasil disimpan ke file: raw_app_data/hasil_scraping_com.traveloka.android.csv\n",
      "\n",
      "File raw_app_data/hasil_scraping_com.tiket.gits.csv ditemukan. Memeriksa jumlah data...\n",
      "Jumlah data pada raw_app_data/hasil_scraping_com.tiket.gits.csv (18000) tidak memenuhi target. Proses download ulang.\n",
      "\n",
      "Memulai scraping ulasan untuk aplikasi: com.tiket.gits\n",
      "Target jumlah ulasan: 25000\n"
     ]
    },
    {
     "name": "stderr",
     "output_type": "stream",
     "text": [
      "Scraping com.tiket.gits: 100%|██████████| 25000/25000 [00:51<00:00, 485.25it/s]\n"
     ]
    },
    {
     "name": "stdout",
     "output_type": "stream",
     "text": [
      "Berhasil mendapatkan 25000 ulasan untuk aplikasi com.tiket.gits.\n",
      "Data ulasan untuk com.tiket.gits berhasil disimpan ke file: raw_app_data/hasil_scraping_com.tiket.gits.csv\n",
      "\n",
      "File raw_app_data/hasil_scraping_id.tix.android.csv ditemukan. Memeriksa jumlah data...\n",
      "Jumlah data pada raw_app_data/hasil_scraping_id.tix.android.csv (18000) tidak memenuhi target. Proses download ulang.\n",
      "\n",
      "Memulai scraping ulasan untuk aplikasi: id.tix.android\n",
      "Target jumlah ulasan: 25000\n"
     ]
    },
    {
     "name": "stderr",
     "output_type": "stream",
     "text": [
      "Scraping id.tix.android: 100%|██████████| 25000/25000 [00:55<00:00, 449.72it/s]\n"
     ]
    },
    {
     "name": "stdout",
     "output_type": "stream",
     "text": [
      "Berhasil mendapatkan 25000 ulasan untuk aplikasi id.tix.android.\n",
      "Data ulasan untuk id.tix.android berhasil disimpan ke file: raw_app_data/hasil_scraping_id.tix.android.csv\n",
      "\n",
      "File raw_app_data/hasil_scraping_com.grabtaxi.passenger.csv ditemukan. Memeriksa jumlah data...\n",
      "Jumlah data pada raw_app_data/hasil_scraping_com.grabtaxi.passenger.csv (18000) tidak memenuhi target. Proses download ulang.\n",
      "\n",
      "Memulai scraping ulasan untuk aplikasi: com.grabtaxi.passenger\n",
      "Target jumlah ulasan: 25000\n"
     ]
    },
    {
     "name": "stderr",
     "output_type": "stream",
     "text": [
      "Scraping com.grabtaxi.passenger: 100%|██████████| 25000/25000 [00:51<00:00, 481.66it/s]\n"
     ]
    },
    {
     "name": "stdout",
     "output_type": "stream",
     "text": [
      "Berhasil mendapatkan 25000 ulasan untuk aplikasi com.grabtaxi.passenger.\n",
      "Data ulasan untuk com.grabtaxi.passenger berhasil disimpan ke file: raw_app_data/hasil_scraping_com.grabtaxi.passenger.csv\n",
      "\n",
      "File raw_app_data/hasil_scraping_com.telkomsel.telkomselcm.csv ditemukan. Memeriksa jumlah data...\n",
      "Jumlah data pada raw_app_data/hasil_scraping_com.telkomsel.telkomselcm.csv (18000) tidak memenuhi target. Proses download ulang.\n",
      "\n",
      "Memulai scraping ulasan untuk aplikasi: com.telkomsel.telkomselcm\n",
      "Target jumlah ulasan: 25000\n"
     ]
    },
    {
     "name": "stderr",
     "output_type": "stream",
     "text": [
      "Scraping com.telkomsel.telkomselcm: 100%|██████████| 25000/25000 [00:56<00:00, 439.11it/s]\n"
     ]
    },
    {
     "name": "stdout",
     "output_type": "stream",
     "text": [
      "Berhasil mendapatkan 25000 ulasan untuk aplikasi com.telkomsel.telkomselcm.\n",
      "Data ulasan untuk com.telkomsel.telkomselcm berhasil disimpan ke file: raw_app_data/hasil_scraping_com.telkomsel.telkomselcm.csv\n",
      "\n",
      "File raw_app_data/hasil_scraping_co.pegadaian.syariah.nasabah.csv ditemukan. Memeriksa jumlah data...\n",
      "Jumlah data pada raw_app_data/hasil_scraping_co.pegadaian.syariah.nasabah.csv (4156) tidak memenuhi target. Proses download ulang.\n",
      "\n",
      "Memulai scraping ulasan untuk aplikasi: co.pegadaian.syariah.nasabah\n",
      "Target jumlah ulasan: 25000\n"
     ]
    },
    {
     "name": "stderr",
     "output_type": "stream",
     "text": [
      "Scraping co.pegadaian.syariah.nasabah:  17%|█▋        | 4183/25000 [00:09<00:48, 433.55it/s]"
     ]
    },
    {
     "name": "stdout",
     "output_type": "stream",
     "text": [
      "\n",
      "Tidak ada ulasan baru yang diterima dari co.pegadaian.syariah.nasabah. Berhenti proses scraping.\n",
      "\n",
      "CATATAN: Hanya berhasil mendapatkan 4183 ulasan dari co.pegadaian.syariah.nasabah.\n",
      "Kemungkinan aplikasi co.pegadaian.syariah.nasabah memiliki lebih sedikit ulasan dari target (25000).\n",
      "Melanjutkan proses penyimpanan dengan jumlah ulasan yang tersedia.\n",
      "Berhasil mendapatkan 4183 ulasan untuk aplikasi co.pegadaian.syariah.nasabah.\n",
      "Data ulasan untuk co.pegadaian.syariah.nasabah berhasil disimpan ke file: raw_app_data/hasil_scraping_co.pegadaian.syariah.nasabah.csv\n",
      "\n",
      "File raw_app_data/hasil_scraping_com.icon.pln123.csv ditemukan. Memeriksa jumlah data...\n"
     ]
    },
    {
     "name": "stderr",
     "output_type": "stream",
     "text": [
      "\n"
     ]
    },
    {
     "name": "stdout",
     "output_type": "stream",
     "text": [
      "Jumlah data pada raw_app_data/hasil_scraping_com.icon.pln123.csv (18000) tidak memenuhi target. Proses download ulang.\n",
      "\n",
      "Memulai scraping ulasan untuk aplikasi: com.icon.pln123\n",
      "Target jumlah ulasan: 25000\n"
     ]
    },
    {
     "name": "stderr",
     "output_type": "stream",
     "text": [
      "Scraping com.icon.pln123: 100%|██████████| 25000/25000 [00:56<00:00, 439.51it/s]\n"
     ]
    },
    {
     "name": "stdout",
     "output_type": "stream",
     "text": [
      "Berhasil mendapatkan 25000 ulasan untuk aplikasi com.icon.pln123.\n",
      "Data ulasan untuk com.icon.pln123 berhasil disimpan ke file: raw_app_data/hasil_scraping_com.icon.pln123.csv\n",
      "\n",
      "File raw_app_data/hasil_scraping_com.gojek.partner.csv ditemukan. Memeriksa jumlah data...\n",
      "Jumlah data pada raw_app_data/hasil_scraping_com.gojek.partner.csv (18000) tidak memenuhi target. Proses download ulang.\n",
      "\n",
      "Memulai scraping ulasan untuk aplikasi: com.gojek.partner\n",
      "Target jumlah ulasan: 25000\n"
     ]
    },
    {
     "name": "stderr",
     "output_type": "stream",
     "text": [
      "Scraping com.gojek.partner: 100%|██████████| 25000/25000 [00:49<00:00, 501.34it/s]\n"
     ]
    },
    {
     "name": "stdout",
     "output_type": "stream",
     "text": [
      "Berhasil mendapatkan 25000 ulasan untuk aplikasi com.gojek.partner.\n",
      "Data ulasan untuk com.gojek.partner berhasil disimpan ke file: raw_app_data/hasil_scraping_com.gojek.partner.csv\n",
      "\n",
      "File raw_app_data/hasil_scraping_com.gojek.gopay.csv ditemukan. Memeriksa jumlah data...\n",
      "Jumlah data pada raw_app_data/hasil_scraping_com.gojek.gopay.csv (18000) tidak memenuhi target. Proses download ulang.\n",
      "\n",
      "Memulai scraping ulasan untuk aplikasi: com.gojek.gopay\n",
      "Target jumlah ulasan: 25000\n"
     ]
    },
    {
     "name": "stderr",
     "output_type": "stream",
     "text": [
      "Scraping com.gojek.gopay: 100%|██████████| 25000/25000 [00:51<00:00, 485.51it/s]\n"
     ]
    },
    {
     "name": "stdout",
     "output_type": "stream",
     "text": [
      "Berhasil mendapatkan 25000 ulasan untuk aplikasi com.gojek.gopay.\n",
      "Data ulasan untuk com.gojek.gopay berhasil disimpan ke file: raw_app_data/hasil_scraping_com.gojek.gopay.csv\n",
      "\n",
      "File raw_app_data/hasil_scraping_com.shopeepay.id.csv ditemukan. Memeriksa jumlah data...\n",
      "Jumlah data pada raw_app_data/hasil_scraping_com.shopeepay.id.csv (18000) tidak memenuhi target. Proses download ulang.\n",
      "\n",
      "Memulai scraping ulasan untuk aplikasi: com.shopeepay.id\n",
      "Target jumlah ulasan: 25000\n"
     ]
    },
    {
     "name": "stderr",
     "output_type": "stream",
     "text": [
      "Scraping com.shopeepay.id: 100%|██████████| 25000/25000 [00:54<00:00, 457.84it/s]\n"
     ]
    },
    {
     "name": "stdout",
     "output_type": "stream",
     "text": [
      "Berhasil mendapatkan 25000 ulasan untuk aplikasi com.shopeepay.id.\n",
      "Data ulasan untuk com.shopeepay.id berhasil disimpan ke file: raw_app_data/hasil_scraping_com.shopeepay.id.csv\n",
      "\n",
      "File raw_app_data/hasil_scraping_com.bnc.finance.csv ditemukan. Memeriksa jumlah data...\n",
      "Jumlah data pada raw_app_data/hasil_scraping_com.bnc.finance.csv (18000) tidak memenuhi target. Proses download ulang.\n",
      "\n",
      "Memulai scraping ulasan untuk aplikasi: com.bnc.finance\n",
      "Target jumlah ulasan: 25000\n"
     ]
    },
    {
     "name": "stderr",
     "output_type": "stream",
     "text": [
      "Scraping com.bnc.finance: 100%|██████████| 25000/25000 [00:52<00:00, 471.97it/s]"
     ]
    },
    {
     "name": "stdout",
     "output_type": "stream",
     "text": [
      "Berhasil mendapatkan 25000 ulasan untuk aplikasi com.bnc.finance.\n",
      "Data ulasan untuk com.bnc.finance berhasil disimpan ke file: raw_app_data/hasil_scraping_com.bnc.finance.csv\n"
     ]
    },
    {
     "name": "stderr",
     "output_type": "stream",
     "text": [
      "\n"
     ]
    }
   ],
   "source": [
    "# List untuk menampung DataFrame masing-masing aplikasi\n",
    "list_df_app = []\n",
    "\n",
    "for app in LIST_APP_ID:\n",
    "    file_output_app = f\"raw_app_data/hasil_scraping_{app}.csv\"\n",
    "    skip_download = False\n",
    "    \n",
    "    # Cek apakah file sudah ada\n",
    "    if os.path.exists(file_output_app):\n",
    "        print(f\"\\nFile {file_output_app} ditemukan. Memeriksa jumlah data...\")\n",
    "        df_existing = pd.read_csv(file_output_app, encoding='utf-8-sig')\n",
    "        if len(df_existing) == JUMLAH_ULASAN_TARGET:\n",
    "            print(f\"Jumlah data pada {file_output_app} sudah memenuhi target ({JUMLAH_ULASAN_TARGET}). Skip download.\")\n",
    "            list_df_app.append(df_existing)\n",
    "            skip_download = True\n",
    "        else:\n",
    "            print(f\"Jumlah data pada {file_output_app} ({len(df_existing)}) tidak memenuhi target. Proses download ulang.\")\n",
    "\n",
    "    if not skip_download:\n",
    "        print(f\"\\nMemulai scraping ulasan untuk aplikasi: {app}\")\n",
    "        print(f\"Target jumlah ulasan: {JUMLAH_ULASAN_TARGET}\")\n",
    "        \n",
    "        try:\n",
    "            # Inisialisasi variabel untuk menyimpan ulasan dan token kelanjutan\n",
    "            semua_ulasan = []\n",
    "            token = None\n",
    "            batch_size = 1000  # jumlah ulasan per iterasi\n",
    "            \n",
    "            # Variabel untuk mendeteksi ketika tidak ada ulasan baru\n",
    "            previous_total = -1\n",
    "            no_new_reviews_count = 0\n",
    "            max_no_new_reviews = 3  # Berhenti setelah 3 kali tidak ada ulasan baru\n",
    "            \n",
    "            # Membuat progress bar dengan total target ulasan\n",
    "            with tqdm(total=JUMLAH_ULASAN_TARGET, desc=f\"Scraping {app}\") as pbar:\n",
    "                while True:\n",
    "                    # Tambahkan kode retry: hingga 5 kali jika terjadi exception\n",
    "                    for attempt in range(5):\n",
    "                        try:\n",
    "                            result, token = reviews(\n",
    "                                app,\n",
    "                                lang='id',           # Bahasa ulasan (Indonesia)\n",
    "                                country='id',        # Negara (Indonesia)\n",
    "                                sort=Sort.NEWEST,    # Urutkan berdasarkan terbaru\n",
    "                                count=batch_size,\n",
    "                                continuation_token=token\n",
    "                            )\n",
    "                            break  # Jika berhasil, keluar dari loop retry\n",
    "                        except Exception as e:\n",
    "                            print(f\"\\nGagal mengambil ulasan (attempt {attempt+1}/5) untuk {app}: {e}\")\n",
    "                            if attempt < 4:\n",
    "                                print(\"Mencoba kembali...\")\n",
    "                                time.sleep(2)  # jeda selama 2 detik sebelum retry\n",
    "                            else:\n",
    "                                raise Exception(f\"Gagal terhubung ke {app} setelah 5 kali percobaan\") from e\n",
    "\n",
    "                    # Periksa apakah ada ulasan baru yang diterima\n",
    "                    if len(result) == 0:\n",
    "                        print(f\"\\nTidak ada ulasan baru yang diterima dari {app}. Berhenti proses scraping.\")\n",
    "                        break\n",
    "                        \n",
    "                    # Tambahkan ulasan yang didapat ke list\n",
    "                    semua_ulasan.extend(result)\n",
    "                    \n",
    "                    # Update progress bar hanya untuk ulasan baru\n",
    "                    pbar.update(len(result))\n",
    "                    \n",
    "                    # Deteksi ketika jumlah ulasan tidak bertambah lagi\n",
    "                    if previous_total == len(semua_ulasan):\n",
    "                        no_new_reviews_count += 1\n",
    "                        print(f\"\\nPeringatan: Tidak ada ulasan baru yang ditambahkan. Percobaan ke-{no_new_reviews_count}/{max_no_new_reviews}\")\n",
    "                        if no_new_reviews_count >= max_no_new_reviews:\n",
    "                            print(f\"\\nSetelah {max_no_new_reviews} kali tidak ada ulasan baru, proses scraping dihentikan.\")\n",
    "                            print(f\"Berhasil mengumpulkan {len(semua_ulasan)} ulasan dari {app}, yang mungkin adalah total ulasan yang tersedia.\")\n",
    "                            break\n",
    "                    else:\n",
    "                        # Reset counter jika ada ulasan baru\n",
    "                        no_new_reviews_count = 0\n",
    "                    \n",
    "                    # Perbarui total sebelumnya\n",
    "                    previous_total = len(semua_ulasan)\n",
    "                    \n",
    "                    # Jika sudah mencapai atau melebihi target atau tidak ada token lagi, berhenti\n",
    "                    if token is None or len(semua_ulasan) >= JUMLAH_ULASAN_TARGET:\n",
    "                        break\n",
    "                    \n",
    "                    # Tambahkan jeda kecil untuk menghindari rate limiting\n",
    "                    time.sleep(0.5)\n",
    "\n",
    "            # Potong jika ulasan yang didapat melebihi target\n",
    "            if len(semua_ulasan) > JUMLAH_ULASAN_TARGET:\n",
    "                print(f\"Mengambil {len(semua_ulasan)} ulasan, memotong menjadi {JUMLAH_ULASAN_TARGET}.\")\n",
    "                semua_ulasan = semua_ulasan[:JUMLAH_ULASAN_TARGET]\n",
    "            \n",
    "            # Tambahkan pesan yang lebih informatif jika jumlah ulasan di bawah target\n",
    "            if len(semua_ulasan) < JUMLAH_ULASAN_TARGET:\n",
    "                print(f\"\\nCATATAN: Hanya berhasil mendapatkan {len(semua_ulasan)} ulasan dari {app}.\")\n",
    "                print(f\"Kemungkinan aplikasi {app} memiliki lebih sedikit ulasan dari target ({JUMLAH_ULASAN_TARGET}).\")\n",
    "                print(\"Melanjutkan proses penyimpanan dengan jumlah ulasan yang tersedia.\")\n",
    "\n",
    "            print(f\"Berhasil mendapatkan {len(semua_ulasan)} ulasan untuk aplikasi {app}.\")\n",
    "\n",
    "            # Tambahkan informasi app_id ke masing-masing ulasan untuk penanda\n",
    "            for ulasan in semua_ulasan:\n",
    "                ulasan['app_id'] = app\n",
    "\n",
    "            # Konversi ke DataFrame dan simpan sebagai file CSV untuk aplikasi ini\n",
    "            df_app = pd.DataFrame(semua_ulasan)\n",
    "            kolom_yang_diinginkan = ['app_id', 'userName', 'score', 'at', 'content']\n",
    "            df_app = df_app[kolom_yang_diinginkan]\n",
    "            df_app.to_csv(file_output_app, index=False, encoding='utf-8-sig')\n",
    "            print(f\"Data ulasan untuk {app} berhasil disimpan ke file: {file_output_app}\")\n",
    "\n",
    "            # Simpan DataFrame ke list untuk penggabungan akhir\n",
    "            list_df_app.append(df_app)\n",
    "\n",
    "        except Exception as e:\n",
    "            print(f\"Terjadi kesalahan saat scraping untuk {app}: {e}\")\n",
    "            print(\"Pastikan ID Aplikasi benar dan koneksi internet stabil.\")\n"
   ]
  },
  {
   "cell_type": "markdown",
   "id": "cc7477bc",
   "metadata": {},
   "source": [
    "# --- Gabungkan semua data aplikasi ke dalam satu file CSV ---"
   ]
  },
  {
   "cell_type": "code",
   "execution_count": 4,
   "id": "ba979e52",
   "metadata": {},
   "outputs": [
    {
     "name": "stdout",
     "output_type": "stream",
     "text": [
      "\n",
      "Data seluruh ulasan dari semua aplikasi berhasil disimpan ke file: hasil_scraping_semua_app.csv\n"
     ]
    }
   ],
   "source": [
    "if list_df_app:\n",
    "    df_semua_app = pd.concat(list_df_app, ignore_index=True)\n",
    "    df_semua_app.to_csv(NAMA_FILE_OUTPUT_SEMUA, index=False, encoding='utf-8-sig')\n",
    "    print(f\"\\nData seluruh ulasan dari semua aplikasi berhasil disimpan ke file: {NAMA_FILE_OUTPUT_SEMUA}\")\n",
    "else:\n",
    "    print(\"Tidak ada data ulasan yang berhasil dikumpulkan.\")"
   ]
  }
 ],
 "metadata": {
  "kernelspec": {
   "display_name": "myvenv",
   "language": "python",
   "name": "python3"
  },
  "language_info": {
   "codemirror_mode": {
    "name": "ipython",
    "version": 3
   },
   "file_extension": ".py",
   "mimetype": "text/x-python",
   "name": "python",
   "nbconvert_exporter": "python",
   "pygments_lexer": "ipython3",
   "version": "3.10.0"
  }
 },
 "nbformat": 4,
 "nbformat_minor": 5
}
